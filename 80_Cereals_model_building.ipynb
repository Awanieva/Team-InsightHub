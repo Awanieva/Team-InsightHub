{
 "cells": [
  {
   "cell_type": "markdown",
   "metadata": {
    "id": "A5H2jqYyaChx"
   },
   "source": []
  },
  {
   "cell_type": "markdown",
   "metadata": {
    "id": "VvhMAMSnaMxU"
   },
   "source": [
    "# **80 Cereals Analysis**\n",
    "\n",
    "## **Which Cereal is Healthy for Human Consumption**\n",
    "\n"
   ]
  },
  {
   "cell_type": "markdown",
   "metadata": {
    "id": "dN1mxhEBcfQ6"
   },
   "source": [
    "This is a multivariate dataset describing seventy-seven commonly available breakfast cereals with sixteen features, based on the information now available on the newly-mandated food and drugs administration (F&DA) food label.\n",
    "*   What are you getting when you eat a bowl of cereal?\n",
    "*   Can you get a lot of fiber without a lot of calories?\n",
    "*   Can you describe what cereals are displayed on high, low, and middle shelves?\n",
    "\n",
    "The good news is that none of the cereals for which we collected data had any cholesterol, and manufacturers rarely use artificial sweeteners and colors, nowadays. (http://lib.stat.cmu.edu/datasets/1993.expo/)"
   ]
  },
  {
   "cell_type": "markdown",
   "metadata": {
    "id": "fkpHGlw8o3mv"
   },
   "source": [
    "**Content**\n",
    "\n",
    "Fields in the dataset:\n",
    "\n",
    "Name: Name of cereal\n",
    "\n",
    "mfr: Manufacturer of cereal\n",
    "A = American Home Food Products; G = General Mills; K = Kelloggs; N = Nabisco; P = Post; Q = Quaker Oats; R = Ralston Purina;\n",
    "\n",
    "type:\n",
    "cold;\n",
    "hot;\n",
    "\n",
    "calories: calories per serving\n",
    "\n",
    "protein: grams of protein\n",
    "\n",
    "fat: grams of fat\n",
    "\n",
    "sodium: milligrams of sodium\n",
    "\n",
    "fiber: grams of dietary fiber\n",
    "\n",
    "carbo: grams of complex carbohydrates\n",
    "\n",
    "sugars: grams of sugars\n",
    "\n",
    "potass: milligrams of potassium\n",
    "\n",
    "vitamins: vitamins and minerals - 0, 25, or 100, indicating the typical percentage of FDA recommended\n",
    "\n",
    "shelf: display shelf (1, 2, or 3, counting from the floor)\n",
    "\n",
    "weight: weight in ounces of one serving\n",
    "\n",
    "cups: number of cups in one serving\n",
    "\n",
    "rating: a rating of the cereals (Possibly from Consumer Reports?)\n",
    "\n",
    "(https://www.kaggle.com/code/mashhar/data-preprocessing-visualization-model-learning)"
   ]
  },
  {
   "cell_type": "code",
   "execution_count": 219,
   "metadata": {
    "colab": {
     "base_uri": "https://localhost:8080/"
    },
    "id": "p8g2KCGspn8K",
    "outputId": "e8c00d38-332a-4aaa-f53b-aa97d73e551f"
   },
   "outputs": [],
   "source": [
    "# Import the necessary libraries\n",
    "\n",
    "import pandas as pd\n",
    "import numpy as np\n",
    "import seaborn as sns\n",
    "import matplotlib.pyplot as plt\n",
    "from sklearn import metrics\n",
    "from sklearn import model_selection\n",
    "from sklearn.model_selection import train_test_split\n",
    "from sklearn.linear_model import LinearRegression\n",
    "from sklearn.preprocessing import PolynomialFeatures\n",
    "from sklearn.ensemble import RandomForestRegressor\n",
    "from sklearn.linear_model import Ridge, Lasso\n",
    "from sklearn.metrics import mean_absolute_error, mean_squared_error, r2_score\n",
    "from sklearn.preprocessing import OneHotEncoder\n",
    "from sklearn.pipeline import Pipeline\n",
    "import scipy.stats as stats\n",
    "\n",
    "\n",
    "%matplotlib inline"
   ]
  },
  {
   "cell_type": "code",
   "execution_count": 220,
   "metadata": {
    "colab": {
     "base_uri": "https://localhost:8080/",
     "height": 206
    },
    "id": "ZIGS0oV2tCEg",
    "outputId": "45c19051-3f7d-4991-9f5c-4d599305a6f4"
   },
   "outputs": [
    {
     "data": {
      "text/html": [
       "<div>\n",
       "<style scoped>\n",
       "    .dataframe tbody tr th:only-of-type {\n",
       "        vertical-align: middle;\n",
       "    }\n",
       "\n",
       "    .dataframe tbody tr th {\n",
       "        vertical-align: top;\n",
       "    }\n",
       "\n",
       "    .dataframe thead th {\n",
       "        text-align: right;\n",
       "    }\n",
       "</style>\n",
       "<table border=\"1\" class=\"dataframe\">\n",
       "  <thead>\n",
       "    <tr style=\"text-align: right;\">\n",
       "      <th></th>\n",
       "      <th>name</th>\n",
       "      <th>mfr</th>\n",
       "      <th>type</th>\n",
       "      <th>calories</th>\n",
       "      <th>protein</th>\n",
       "      <th>fat</th>\n",
       "      <th>sodium</th>\n",
       "      <th>fiber</th>\n",
       "      <th>carbo</th>\n",
       "      <th>sugars</th>\n",
       "      <th>potass</th>\n",
       "      <th>vitamins</th>\n",
       "      <th>shelf</th>\n",
       "      <th>weight</th>\n",
       "      <th>cups</th>\n",
       "      <th>rating</th>\n",
       "    </tr>\n",
       "  </thead>\n",
       "  <tbody>\n",
       "    <tr>\n",
       "      <th>0</th>\n",
       "      <td>100% Bran</td>\n",
       "      <td>N</td>\n",
       "      <td>C</td>\n",
       "      <td>70</td>\n",
       "      <td>4</td>\n",
       "      <td>1</td>\n",
       "      <td>130</td>\n",
       "      <td>10.0</td>\n",
       "      <td>5.0</td>\n",
       "      <td>6</td>\n",
       "      <td>280</td>\n",
       "      <td>25</td>\n",
       "      <td>3</td>\n",
       "      <td>1.0</td>\n",
       "      <td>0.33</td>\n",
       "      <td>68.402973</td>\n",
       "    </tr>\n",
       "    <tr>\n",
       "      <th>1</th>\n",
       "      <td>100% Natural Bran</td>\n",
       "      <td>Q</td>\n",
       "      <td>C</td>\n",
       "      <td>120</td>\n",
       "      <td>3</td>\n",
       "      <td>5</td>\n",
       "      <td>15</td>\n",
       "      <td>2.0</td>\n",
       "      <td>8.0</td>\n",
       "      <td>8</td>\n",
       "      <td>135</td>\n",
       "      <td>0</td>\n",
       "      <td>3</td>\n",
       "      <td>1.0</td>\n",
       "      <td>1.00</td>\n",
       "      <td>33.983679</td>\n",
       "    </tr>\n",
       "    <tr>\n",
       "      <th>2</th>\n",
       "      <td>All-Bran</td>\n",
       "      <td>K</td>\n",
       "      <td>C</td>\n",
       "      <td>70</td>\n",
       "      <td>4</td>\n",
       "      <td>1</td>\n",
       "      <td>260</td>\n",
       "      <td>9.0</td>\n",
       "      <td>7.0</td>\n",
       "      <td>5</td>\n",
       "      <td>320</td>\n",
       "      <td>25</td>\n",
       "      <td>3</td>\n",
       "      <td>1.0</td>\n",
       "      <td>0.33</td>\n",
       "      <td>59.425505</td>\n",
       "    </tr>\n",
       "    <tr>\n",
       "      <th>3</th>\n",
       "      <td>All-Bran with Extra Fiber</td>\n",
       "      <td>K</td>\n",
       "      <td>C</td>\n",
       "      <td>50</td>\n",
       "      <td>4</td>\n",
       "      <td>0</td>\n",
       "      <td>140</td>\n",
       "      <td>14.0</td>\n",
       "      <td>8.0</td>\n",
       "      <td>0</td>\n",
       "      <td>330</td>\n",
       "      <td>25</td>\n",
       "      <td>3</td>\n",
       "      <td>1.0</td>\n",
       "      <td>0.50</td>\n",
       "      <td>93.704912</td>\n",
       "    </tr>\n",
       "    <tr>\n",
       "      <th>4</th>\n",
       "      <td>Almond Delight</td>\n",
       "      <td>R</td>\n",
       "      <td>C</td>\n",
       "      <td>110</td>\n",
       "      <td>2</td>\n",
       "      <td>2</td>\n",
       "      <td>200</td>\n",
       "      <td>1.0</td>\n",
       "      <td>14.0</td>\n",
       "      <td>8</td>\n",
       "      <td>-1</td>\n",
       "      <td>25</td>\n",
       "      <td>3</td>\n",
       "      <td>1.0</td>\n",
       "      <td>0.75</td>\n",
       "      <td>34.384843</td>\n",
       "    </tr>\n",
       "  </tbody>\n",
       "</table>\n",
       "</div>"
      ],
      "text/plain": [
       "                        name mfr type  calories  protein  fat  sodium  fiber  \\\n",
       "0                  100% Bran   N    C        70        4    1     130   10.0   \n",
       "1          100% Natural Bran   Q    C       120        3    5      15    2.0   \n",
       "2                   All-Bran   K    C        70        4    1     260    9.0   \n",
       "3  All-Bran with Extra Fiber   K    C        50        4    0     140   14.0   \n",
       "4             Almond Delight   R    C       110        2    2     200    1.0   \n",
       "\n",
       "   carbo  sugars  potass  vitamins  shelf  weight  cups     rating  \n",
       "0    5.0       6     280        25      3     1.0  0.33  68.402973  \n",
       "1    8.0       8     135         0      3     1.0  1.00  33.983679  \n",
       "2    7.0       5     320        25      3     1.0  0.33  59.425505  \n",
       "3    8.0       0     330        25      3     1.0  0.50  93.704912  \n",
       "4   14.0       8      -1        25      3     1.0  0.75  34.384843  "
      ]
     },
     "execution_count": 220,
     "metadata": {},
     "output_type": "execute_result"
    }
   ],
   "source": [
    "# Load data\n",
    "\n",
    "cereal_df = pd.read_csv(\"cereal.csv\")\n",
    "cereal_df.head()"
   ]
  },
  {
   "cell_type": "markdown",
   "metadata": {
    "id": "YGFAKkb1uxyF"
   },
   "source": [
    "### Data Cleaning and Preprocessing"
   ]
  },
  {
   "cell_type": "code",
   "execution_count": 221,
   "metadata": {
    "colab": {
     "base_uri": "https://localhost:8080/"
    },
    "id": "-uofj5i0tQjO",
    "outputId": "78db2944-0c7f-418a-ab00-7ec162f1239e"
   },
   "outputs": [
    {
     "data": {
      "text/plain": [
       "(77, 16)"
      ]
     },
     "execution_count": 221,
     "metadata": {},
     "output_type": "execute_result"
    }
   ],
   "source": [
    "cereal_df.shape"
   ]
  },
  {
   "cell_type": "code",
   "execution_count": 222,
   "metadata": {
    "colab": {
     "base_uri": "https://localhost:8080/"
    },
    "id": "MsJ4yXUHwFMZ",
    "outputId": "4d434e57-e2c6-46dd-d3b9-9bc508992bf1"
   },
   "outputs": [
    {
     "name": "stdout",
     "output_type": "stream",
     "text": [
      "<class 'pandas.core.frame.DataFrame'>\n",
      "RangeIndex: 77 entries, 0 to 76\n",
      "Data columns (total 16 columns):\n",
      " #   Column    Non-Null Count  Dtype  \n",
      "---  ------    --------------  -----  \n",
      " 0   name      77 non-null     object \n",
      " 1   mfr       77 non-null     object \n",
      " 2   type      77 non-null     object \n",
      " 3   calories  77 non-null     int64  \n",
      " 4   protein   77 non-null     int64  \n",
      " 5   fat       77 non-null     int64  \n",
      " 6   sodium    77 non-null     int64  \n",
      " 7   fiber     77 non-null     float64\n",
      " 8   carbo     77 non-null     float64\n",
      " 9   sugars    77 non-null     int64  \n",
      " 10  potass    77 non-null     int64  \n",
      " 11  vitamins  77 non-null     int64  \n",
      " 12  shelf     77 non-null     int64  \n",
      " 13  weight    77 non-null     float64\n",
      " 14  cups      77 non-null     float64\n",
      " 15  rating    77 non-null     float64\n",
      "dtypes: float64(5), int64(8), object(3)\n",
      "memory usage: 9.8+ KB\n"
     ]
    }
   ],
   "source": [
    "cereal_df.info()"
   ]
  },
  {
   "cell_type": "code",
   "execution_count": 223,
   "metadata": {
    "colab": {
     "base_uri": "https://localhost:8080/",
     "height": 300
    },
    "id": "6n-jgW9SwQgg",
    "outputId": "cb480f96-dd59-4f38-9973-51e2c92ec754"
   },
   "outputs": [
    {
     "data": {
      "text/html": [
       "<div>\n",
       "<style scoped>\n",
       "    .dataframe tbody tr th:only-of-type {\n",
       "        vertical-align: middle;\n",
       "    }\n",
       "\n",
       "    .dataframe tbody tr th {\n",
       "        vertical-align: top;\n",
       "    }\n",
       "\n",
       "    .dataframe thead th {\n",
       "        text-align: right;\n",
       "    }\n",
       "</style>\n",
       "<table border=\"1\" class=\"dataframe\">\n",
       "  <thead>\n",
       "    <tr style=\"text-align: right;\">\n",
       "      <th></th>\n",
       "      <th>calories</th>\n",
       "      <th>protein</th>\n",
       "      <th>fat</th>\n",
       "      <th>sodium</th>\n",
       "      <th>fiber</th>\n",
       "      <th>carbo</th>\n",
       "      <th>sugars</th>\n",
       "      <th>potass</th>\n",
       "      <th>vitamins</th>\n",
       "      <th>shelf</th>\n",
       "      <th>weight</th>\n",
       "      <th>cups</th>\n",
       "      <th>rating</th>\n",
       "    </tr>\n",
       "  </thead>\n",
       "  <tbody>\n",
       "    <tr>\n",
       "      <th>count</th>\n",
       "      <td>77.000000</td>\n",
       "      <td>77.000000</td>\n",
       "      <td>77.000000</td>\n",
       "      <td>77.000000</td>\n",
       "      <td>77.000000</td>\n",
       "      <td>77.000000</td>\n",
       "      <td>77.000000</td>\n",
       "      <td>77.000000</td>\n",
       "      <td>77.000000</td>\n",
       "      <td>77.000000</td>\n",
       "      <td>77.000000</td>\n",
       "      <td>77.000000</td>\n",
       "      <td>77.000000</td>\n",
       "    </tr>\n",
       "    <tr>\n",
       "      <th>mean</th>\n",
       "      <td>106.883117</td>\n",
       "      <td>2.545455</td>\n",
       "      <td>1.012987</td>\n",
       "      <td>159.675325</td>\n",
       "      <td>2.151948</td>\n",
       "      <td>14.597403</td>\n",
       "      <td>6.922078</td>\n",
       "      <td>96.077922</td>\n",
       "      <td>28.246753</td>\n",
       "      <td>2.207792</td>\n",
       "      <td>1.029610</td>\n",
       "      <td>0.821039</td>\n",
       "      <td>42.665705</td>\n",
       "    </tr>\n",
       "    <tr>\n",
       "      <th>std</th>\n",
       "      <td>19.484119</td>\n",
       "      <td>1.094790</td>\n",
       "      <td>1.006473</td>\n",
       "      <td>83.832295</td>\n",
       "      <td>2.383364</td>\n",
       "      <td>4.278956</td>\n",
       "      <td>4.444885</td>\n",
       "      <td>71.286813</td>\n",
       "      <td>22.342523</td>\n",
       "      <td>0.832524</td>\n",
       "      <td>0.150477</td>\n",
       "      <td>0.232716</td>\n",
       "      <td>14.047289</td>\n",
       "    </tr>\n",
       "    <tr>\n",
       "      <th>min</th>\n",
       "      <td>50.000000</td>\n",
       "      <td>1.000000</td>\n",
       "      <td>0.000000</td>\n",
       "      <td>0.000000</td>\n",
       "      <td>0.000000</td>\n",
       "      <td>-1.000000</td>\n",
       "      <td>-1.000000</td>\n",
       "      <td>-1.000000</td>\n",
       "      <td>0.000000</td>\n",
       "      <td>1.000000</td>\n",
       "      <td>0.500000</td>\n",
       "      <td>0.250000</td>\n",
       "      <td>18.042851</td>\n",
       "    </tr>\n",
       "    <tr>\n",
       "      <th>25%</th>\n",
       "      <td>100.000000</td>\n",
       "      <td>2.000000</td>\n",
       "      <td>0.000000</td>\n",
       "      <td>130.000000</td>\n",
       "      <td>1.000000</td>\n",
       "      <td>12.000000</td>\n",
       "      <td>3.000000</td>\n",
       "      <td>40.000000</td>\n",
       "      <td>25.000000</td>\n",
       "      <td>1.000000</td>\n",
       "      <td>1.000000</td>\n",
       "      <td>0.670000</td>\n",
       "      <td>33.174094</td>\n",
       "    </tr>\n",
       "    <tr>\n",
       "      <th>50%</th>\n",
       "      <td>110.000000</td>\n",
       "      <td>3.000000</td>\n",
       "      <td>1.000000</td>\n",
       "      <td>180.000000</td>\n",
       "      <td>2.000000</td>\n",
       "      <td>14.000000</td>\n",
       "      <td>7.000000</td>\n",
       "      <td>90.000000</td>\n",
       "      <td>25.000000</td>\n",
       "      <td>2.000000</td>\n",
       "      <td>1.000000</td>\n",
       "      <td>0.750000</td>\n",
       "      <td>40.400208</td>\n",
       "    </tr>\n",
       "    <tr>\n",
       "      <th>75%</th>\n",
       "      <td>110.000000</td>\n",
       "      <td>3.000000</td>\n",
       "      <td>2.000000</td>\n",
       "      <td>210.000000</td>\n",
       "      <td>3.000000</td>\n",
       "      <td>17.000000</td>\n",
       "      <td>11.000000</td>\n",
       "      <td>120.000000</td>\n",
       "      <td>25.000000</td>\n",
       "      <td>3.000000</td>\n",
       "      <td>1.000000</td>\n",
       "      <td>1.000000</td>\n",
       "      <td>50.828392</td>\n",
       "    </tr>\n",
       "    <tr>\n",
       "      <th>max</th>\n",
       "      <td>160.000000</td>\n",
       "      <td>6.000000</td>\n",
       "      <td>5.000000</td>\n",
       "      <td>320.000000</td>\n",
       "      <td>14.000000</td>\n",
       "      <td>23.000000</td>\n",
       "      <td>15.000000</td>\n",
       "      <td>330.000000</td>\n",
       "      <td>100.000000</td>\n",
       "      <td>3.000000</td>\n",
       "      <td>1.500000</td>\n",
       "      <td>1.500000</td>\n",
       "      <td>93.704912</td>\n",
       "    </tr>\n",
       "  </tbody>\n",
       "</table>\n",
       "</div>"
      ],
      "text/plain": [
       "         calories    protein        fat      sodium      fiber      carbo  \\\n",
       "count   77.000000  77.000000  77.000000   77.000000  77.000000  77.000000   \n",
       "mean   106.883117   2.545455   1.012987  159.675325   2.151948  14.597403   \n",
       "std     19.484119   1.094790   1.006473   83.832295   2.383364   4.278956   \n",
       "min     50.000000   1.000000   0.000000    0.000000   0.000000  -1.000000   \n",
       "25%    100.000000   2.000000   0.000000  130.000000   1.000000  12.000000   \n",
       "50%    110.000000   3.000000   1.000000  180.000000   2.000000  14.000000   \n",
       "75%    110.000000   3.000000   2.000000  210.000000   3.000000  17.000000   \n",
       "max    160.000000   6.000000   5.000000  320.000000  14.000000  23.000000   \n",
       "\n",
       "          sugars      potass    vitamins      shelf     weight       cups  \\\n",
       "count  77.000000   77.000000   77.000000  77.000000  77.000000  77.000000   \n",
       "mean    6.922078   96.077922   28.246753   2.207792   1.029610   0.821039   \n",
       "std     4.444885   71.286813   22.342523   0.832524   0.150477   0.232716   \n",
       "min    -1.000000   -1.000000    0.000000   1.000000   0.500000   0.250000   \n",
       "25%     3.000000   40.000000   25.000000   1.000000   1.000000   0.670000   \n",
       "50%     7.000000   90.000000   25.000000   2.000000   1.000000   0.750000   \n",
       "75%    11.000000  120.000000   25.000000   3.000000   1.000000   1.000000   \n",
       "max    15.000000  330.000000  100.000000   3.000000   1.500000   1.500000   \n",
       "\n",
       "          rating  \n",
       "count  77.000000  \n",
       "mean   42.665705  \n",
       "std    14.047289  \n",
       "min    18.042851  \n",
       "25%    33.174094  \n",
       "50%    40.400208  \n",
       "75%    50.828392  \n",
       "max    93.704912  "
      ]
     },
     "execution_count": 223,
     "metadata": {},
     "output_type": "execute_result"
    }
   ],
   "source": [
    "cereal_df.describe()"
   ]
  },
  {
   "cell_type": "code",
   "execution_count": 224,
   "metadata": {
    "colab": {
     "base_uri": "https://localhost:8080/"
    },
    "id": "gYpNsmheyXox",
    "outputId": "9630d524-9117-4ec4-fcbe-5056061190bb"
   },
   "outputs": [
    {
     "data": {
      "text/plain": [
       "0"
      ]
     },
     "execution_count": 224,
     "metadata": {},
     "output_type": "execute_result"
    }
   ],
   "source": [
    "cereal_df.duplicated().sum()"
   ]
  },
  {
   "cell_type": "code",
   "execution_count": 225,
   "metadata": {
    "colab": {
     "base_uri": "https://localhost:8080/"
    },
    "id": "iCWFkNaHycmn",
    "outputId": "d5232fed-a318-41a3-e0f0-cf2df3386718"
   },
   "outputs": [
    {
     "data": {
      "text/plain": [
       "Index(['name', 'mfr', 'type', 'calories', 'protein', 'fat', 'sodium', 'fiber',\n",
       "       'carbo', 'sugars', 'potass', 'vitamins', 'shelf', 'weight', 'cups',\n",
       "       'rating'],\n",
       "      dtype='object')"
      ]
     },
     "execution_count": 225,
     "metadata": {},
     "output_type": "execute_result"
    }
   ],
   "source": [
    "# Rename the manufacturer's name to the correct name for easy analysis\n",
    "\n",
    "cereal_df.columns"
   ]
  },
  {
   "cell_type": "code",
   "execution_count": 226,
   "metadata": {
    "colab": {
     "base_uri": "https://localhost:8080/"
    },
    "id": "PrpZakR4yups",
    "outputId": "650aa13d-8599-4274-d44c-03bb8fa3fc92"
   },
   "outputs": [
    {
     "data": {
      "text/plain": [
       "array(['N', 'Q', 'K', 'R', 'G', 'P', 'A'], dtype=object)"
      ]
     },
     "execution_count": 226,
     "metadata": {},
     "output_type": "execute_result"
    }
   ],
   "source": [
    "cereal_df[\"mfr\"].unique()"
   ]
  },
  {
   "cell_type": "code",
   "execution_count": 227,
   "metadata": {
    "id": "4pSyeLlNy4Ac"
   },
   "outputs": [],
   "source": [
    "cereal_df[\"mfr\"] = cereal_df[\"mfr\"].replace(['N', 'Q', 'K', 'R', 'G', 'P', 'A'], ['Nabisco', 'Quaker Oats', 'Kelloggs', 'Ralston Purina', 'General Mills', 'Post', 'American Home Food Products'])"
   ]
  },
  {
   "cell_type": "code",
   "execution_count": 228,
   "metadata": {
    "colab": {
     "base_uri": "https://localhost:8080/"
    },
    "id": "jX79hL7n1-6B",
    "outputId": "2291b86d-49b1-434d-aace-de342b2ee48f"
   },
   "outputs": [
    {
     "data": {
      "text/plain": [
       "array(['Nabisco', 'Quaker Oats', 'Kelloggs', 'Ralston Purina',\n",
       "       'General Mills', 'Post', 'American Home Food Products'],\n",
       "      dtype=object)"
      ]
     },
     "execution_count": 228,
     "metadata": {},
     "output_type": "execute_result"
    }
   ],
   "source": [
    "cereal_df[\"mfr\"].unique()"
   ]
  },
  {
   "cell_type": "code",
   "execution_count": 229,
   "metadata": {
    "colab": {
     "base_uri": "https://localhost:8080/",
     "height": 206
    },
    "id": "n2nHV8_T2B9b",
    "outputId": "c9fb0eef-ff70-4718-ee36-67ae6972d842",
    "scrolled": true
   },
   "outputs": [
    {
     "data": {
      "text/html": [
       "<div>\n",
       "<style scoped>\n",
       "    .dataframe tbody tr th:only-of-type {\n",
       "        vertical-align: middle;\n",
       "    }\n",
       "\n",
       "    .dataframe tbody tr th {\n",
       "        vertical-align: top;\n",
       "    }\n",
       "\n",
       "    .dataframe thead th {\n",
       "        text-align: right;\n",
       "    }\n",
       "</style>\n",
       "<table border=\"1\" class=\"dataframe\">\n",
       "  <thead>\n",
       "    <tr style=\"text-align: right;\">\n",
       "      <th></th>\n",
       "      <th>name</th>\n",
       "      <th>mfr</th>\n",
       "      <th>type</th>\n",
       "      <th>calories</th>\n",
       "      <th>protein</th>\n",
       "      <th>fat</th>\n",
       "      <th>sodium</th>\n",
       "      <th>fiber</th>\n",
       "      <th>carbo</th>\n",
       "      <th>sugars</th>\n",
       "      <th>potass</th>\n",
       "      <th>vitamins</th>\n",
       "      <th>shelf</th>\n",
       "      <th>weight</th>\n",
       "      <th>cups</th>\n",
       "      <th>rating</th>\n",
       "    </tr>\n",
       "  </thead>\n",
       "  <tbody>\n",
       "    <tr>\n",
       "      <th>0</th>\n",
       "      <td>100% Bran</td>\n",
       "      <td>Nabisco</td>\n",
       "      <td>C</td>\n",
       "      <td>70</td>\n",
       "      <td>4</td>\n",
       "      <td>1</td>\n",
       "      <td>130</td>\n",
       "      <td>10.0</td>\n",
       "      <td>5.0</td>\n",
       "      <td>6</td>\n",
       "      <td>280</td>\n",
       "      <td>25</td>\n",
       "      <td>3</td>\n",
       "      <td>1.0</td>\n",
       "      <td>0.33</td>\n",
       "      <td>68.402973</td>\n",
       "    </tr>\n",
       "    <tr>\n",
       "      <th>1</th>\n",
       "      <td>100% Natural Bran</td>\n",
       "      <td>Quaker Oats</td>\n",
       "      <td>C</td>\n",
       "      <td>120</td>\n",
       "      <td>3</td>\n",
       "      <td>5</td>\n",
       "      <td>15</td>\n",
       "      <td>2.0</td>\n",
       "      <td>8.0</td>\n",
       "      <td>8</td>\n",
       "      <td>135</td>\n",
       "      <td>0</td>\n",
       "      <td>3</td>\n",
       "      <td>1.0</td>\n",
       "      <td>1.00</td>\n",
       "      <td>33.983679</td>\n",
       "    </tr>\n",
       "    <tr>\n",
       "      <th>2</th>\n",
       "      <td>All-Bran</td>\n",
       "      <td>Kelloggs</td>\n",
       "      <td>C</td>\n",
       "      <td>70</td>\n",
       "      <td>4</td>\n",
       "      <td>1</td>\n",
       "      <td>260</td>\n",
       "      <td>9.0</td>\n",
       "      <td>7.0</td>\n",
       "      <td>5</td>\n",
       "      <td>320</td>\n",
       "      <td>25</td>\n",
       "      <td>3</td>\n",
       "      <td>1.0</td>\n",
       "      <td>0.33</td>\n",
       "      <td>59.425505</td>\n",
       "    </tr>\n",
       "    <tr>\n",
       "      <th>3</th>\n",
       "      <td>All-Bran with Extra Fiber</td>\n",
       "      <td>Kelloggs</td>\n",
       "      <td>C</td>\n",
       "      <td>50</td>\n",
       "      <td>4</td>\n",
       "      <td>0</td>\n",
       "      <td>140</td>\n",
       "      <td>14.0</td>\n",
       "      <td>8.0</td>\n",
       "      <td>0</td>\n",
       "      <td>330</td>\n",
       "      <td>25</td>\n",
       "      <td>3</td>\n",
       "      <td>1.0</td>\n",
       "      <td>0.50</td>\n",
       "      <td>93.704912</td>\n",
       "    </tr>\n",
       "    <tr>\n",
       "      <th>4</th>\n",
       "      <td>Almond Delight</td>\n",
       "      <td>Ralston Purina</td>\n",
       "      <td>C</td>\n",
       "      <td>110</td>\n",
       "      <td>2</td>\n",
       "      <td>2</td>\n",
       "      <td>200</td>\n",
       "      <td>1.0</td>\n",
       "      <td>14.0</td>\n",
       "      <td>8</td>\n",
       "      <td>-1</td>\n",
       "      <td>25</td>\n",
       "      <td>3</td>\n",
       "      <td>1.0</td>\n",
       "      <td>0.75</td>\n",
       "      <td>34.384843</td>\n",
       "    </tr>\n",
       "  </tbody>\n",
       "</table>\n",
       "</div>"
      ],
      "text/plain": [
       "                        name             mfr type  calories  protein  fat  \\\n",
       "0                  100% Bran         Nabisco    C        70        4    1   \n",
       "1          100% Natural Bran     Quaker Oats    C       120        3    5   \n",
       "2                   All-Bran        Kelloggs    C        70        4    1   \n",
       "3  All-Bran with Extra Fiber        Kelloggs    C        50        4    0   \n",
       "4             Almond Delight  Ralston Purina    C       110        2    2   \n",
       "\n",
       "   sodium  fiber  carbo  sugars  potass  vitamins  shelf  weight  cups  \\\n",
       "0     130   10.0    5.0       6     280        25      3     1.0  0.33   \n",
       "1      15    2.0    8.0       8     135         0      3     1.0  1.00   \n",
       "2     260    9.0    7.0       5     320        25      3     1.0  0.33   \n",
       "3     140   14.0    8.0       0     330        25      3     1.0  0.50   \n",
       "4     200    1.0   14.0       8      -1        25      3     1.0  0.75   \n",
       "\n",
       "      rating  \n",
       "0  68.402973  \n",
       "1  33.983679  \n",
       "2  59.425505  \n",
       "3  93.704912  \n",
       "4  34.384843  "
      ]
     },
     "execution_count": 229,
     "metadata": {},
     "output_type": "execute_result"
    }
   ],
   "source": [
    "cereal_df.head()"
   ]
  },
  {
   "cell_type": "code",
   "execution_count": 230,
   "metadata": {},
   "outputs": [
    {
     "data": {
      "text/plain": [
       "calories    0\n",
       "protein     0\n",
       "fat         0\n",
       "sodium      0\n",
       "fiber       0\n",
       "carbo       1\n",
       "sugars      1\n",
       "potass      2\n",
       "vitamins    0\n",
       "shelf       0\n",
       "weight      0\n",
       "cups        0\n",
       "rating      0\n",
       "dtype: int64"
      ]
     },
     "execution_count": 230,
     "metadata": {},
     "output_type": "execute_result"
    }
   ],
   "source": [
    "# Let's check the features with negative data\n",
    "\n",
    "numerical_cereal = cereal_df[['calories', 'protein', 'fat', 'sodium', 'fiber',\n",
    "       'carbo', 'sugars', 'potass', 'vitamins', 'shelf', 'weight', 'cups',\n",
    "       'rating']]\n",
    "\n",
    "numerical_cereal[numerical_cereal < 0].count()"
   ]
  },
  {
   "cell_type": "code",
   "execution_count": 231,
   "metadata": {},
   "outputs": [
    {
     "data": {
      "text/plain": [
       "calories    0\n",
       "protein     0\n",
       "fat         0\n",
       "sodium      0\n",
       "fiber       0\n",
       "carbo       1\n",
       "sugars      1\n",
       "potass      2\n",
       "vitamins    0\n",
       "shelf       0\n",
       "weight      0\n",
       "cups        0\n",
       "rating      0\n",
       "dtype: int64"
      ]
     },
     "execution_count": 231,
     "metadata": {},
     "output_type": "execute_result"
    }
   ],
   "source": [
    "# Let's change the negative values in carbo, sugars, and potass to the mean of the features\n",
    "cereal_df['carbo'].mask(cereal_df['carbo'] < 0, round(cereal_df['carbo'].mean()), inplace=True)\n",
    "cereal_df['sugars'].mask(cereal_df['sugars'] < 0, round(cereal_df['sugars'].mean()), inplace=True)\n",
    "cereal_df['potass'].mask(cereal_df['potass'] < 0, round(cereal_df['potass'].mean()), inplace=True)\n",
    "\n",
    "numerical_cereal[numerical_cereal < 0].count()"
   ]
  },
  {
   "cell_type": "markdown",
   "metadata": {
    "id": "aGkExl_U7a0w"
   },
   "source": [
    "**Exploratory Data Analysis**"
   ]
  },
  {
   "cell_type": "code",
   "execution_count": 232,
   "metadata": {
    "id": "dW94Xy612J94"
   },
   "outputs": [],
   "source": [
    "# Let's explore the distribution of each of the variables particularly the numerical variables\n",
    "# For reusability, let's define a function for the distribution plot\n",
    "\n",
    "def distribution_plot(variable_name, a,b, df = cereal_df):\n",
    "    sns.set(style=\"darkgrid\")\n",
    "    sns.histplot(data=df, x= variable_name, kde= True, bins = 10, ax = axs[a,b])\n",
    "    # plt.title(f'Distribution of {variable_name}')\n",
    "    plt.xlabel(variable_name)"
   ]
  },
  {
   "cell_type": "code",
   "execution_count": 233,
   "metadata": {
    "colab": {
     "base_uri": "https://localhost:8080/",
     "height": 1000
    },
    "id": "qZCDXWLq8QUN",
    "outputId": "bf963c54-b2ab-4424-e02e-efb76279b69e"
   },
   "outputs": [
    {
     "data": {
      "text/plain": [
       "<bound method Figure.tight_layout of <Figure size 1152x864 with 12 Axes>>"
      ]
     },
     "execution_count": 233,
     "metadata": {},
     "output_type": "execute_result"
    },
    {
     "data": {
      "image/png": "[encoded data removed]",
      "text/plain": [
       "<Figure size 1152x864 with 12 Axes>"
      ]
     },
     "metadata": {
      "needs_background": "light"
     },
     "output_type": "display_data"
    }
   ],
   "source": [
    "fig,axs = plt.subplots(3,4, figsize = (16, 12))\n",
    "distribution_plot(\"calories\", 0, 0)\n",
    "distribution_plot(\"protein\", 0, 1)\n",
    "distribution_plot(\"fat\", 0, 2)\n",
    "distribution_plot(\"sodium\", 0, 3)\n",
    "distribution_plot(\"fiber\", 1, 0)\n",
    "distribution_plot(\"carbo\", 1, 1)\n",
    "distribution_plot(\"sugars\", 1, 2)\n",
    "distribution_plot(\"potass\", 1, 3)\n",
    "distribution_plot(\"vitamins\", 2, 0)\n",
    "distribution_plot(\"weight\", 2, 1)\n",
    "distribution_plot(\"cups\", 2, 2)\n",
    "distribution_plot(\"rating\", 2, 3)\n",
    "fig.tight_layout"
   ]
  },
  {
   "cell_type": "markdown",
   "metadata": {
    "id": "Li7FNWIQ2167"
   },
   "source": [
    "#### What causes the ratings"
   ]
  },
  {
   "cell_type": "code",
   "execution_count": 234,
   "metadata": {
    "colab": {
     "base_uri": "https://localhost:8080/",
     "height": 206
    },
    "id": "Q65svfIg94KW",
    "outputId": "4ae8bea8-f559-4ec3-98b4-150d28ee0e2b"
   },
   "outputs": [
    {
     "data": {
      "text/html": [
       "<div>\n",
       "<style scoped>\n",
       "    .dataframe tbody tr th:only-of-type {\n",
       "        vertical-align: middle;\n",
       "    }\n",
       "\n",
       "    .dataframe tbody tr th {\n",
       "        vertical-align: top;\n",
       "    }\n",
       "\n",
       "    .dataframe thead th {\n",
       "        text-align: right;\n",
       "    }\n",
       "</style>\n",
       "<table border=\"1\" class=\"dataframe\">\n",
       "  <thead>\n",
       "    <tr style=\"text-align: right;\">\n",
       "      <th></th>\n",
       "      <th>name</th>\n",
       "      <th>mfr</th>\n",
       "      <th>type</th>\n",
       "      <th>calories</th>\n",
       "      <th>protein</th>\n",
       "      <th>fat</th>\n",
       "      <th>sodium</th>\n",
       "      <th>fiber</th>\n",
       "      <th>carbo</th>\n",
       "      <th>sugars</th>\n",
       "      <th>potass</th>\n",
       "      <th>vitamins</th>\n",
       "      <th>shelf</th>\n",
       "      <th>weight</th>\n",
       "      <th>cups</th>\n",
       "      <th>rating</th>\n",
       "    </tr>\n",
       "  </thead>\n",
       "  <tbody>\n",
       "    <tr>\n",
       "      <th>0</th>\n",
       "      <td>100% Bran</td>\n",
       "      <td>Nabisco</td>\n",
       "      <td>C</td>\n",
       "      <td>70</td>\n",
       "      <td>4</td>\n",
       "      <td>1</td>\n",
       "      <td>130</td>\n",
       "      <td>10.0</td>\n",
       "      <td>5.0</td>\n",
       "      <td>6</td>\n",
       "      <td>280</td>\n",
       "      <td>25</td>\n",
       "      <td>3</td>\n",
       "      <td>1.0</td>\n",
       "      <td>0.33</td>\n",
       "      <td>68.402973</td>\n",
       "    </tr>\n",
       "    <tr>\n",
       "      <th>1</th>\n",
       "      <td>100% Natural Bran</td>\n",
       "      <td>Quaker Oats</td>\n",
       "      <td>C</td>\n",
       "      <td>120</td>\n",
       "      <td>3</td>\n",
       "      <td>5</td>\n",
       "      <td>15</td>\n",
       "      <td>2.0</td>\n",
       "      <td>8.0</td>\n",
       "      <td>8</td>\n",
       "      <td>135</td>\n",
       "      <td>0</td>\n",
       "      <td>3</td>\n",
       "      <td>1.0</td>\n",
       "      <td>1.00</td>\n",
       "      <td>33.983679</td>\n",
       "    </tr>\n",
       "    <tr>\n",
       "      <th>2</th>\n",
       "      <td>All-Bran</td>\n",
       "      <td>Kelloggs</td>\n",
       "      <td>C</td>\n",
       "      <td>70</td>\n",
       "      <td>4</td>\n",
       "      <td>1</td>\n",
       "      <td>260</td>\n",
       "      <td>9.0</td>\n",
       "      <td>7.0</td>\n",
       "      <td>5</td>\n",
       "      <td>320</td>\n",
       "      <td>25</td>\n",
       "      <td>3</td>\n",
       "      <td>1.0</td>\n",
       "      <td>0.33</td>\n",
       "      <td>59.425505</td>\n",
       "    </tr>\n",
       "    <tr>\n",
       "      <th>3</th>\n",
       "      <td>All-Bran with Extra Fiber</td>\n",
       "      <td>Kelloggs</td>\n",
       "      <td>C</td>\n",
       "      <td>50</td>\n",
       "      <td>4</td>\n",
       "      <td>0</td>\n",
       "      <td>140</td>\n",
       "      <td>14.0</td>\n",
       "      <td>8.0</td>\n",
       "      <td>0</td>\n",
       "      <td>330</td>\n",
       "      <td>25</td>\n",
       "      <td>3</td>\n",
       "      <td>1.0</td>\n",
       "      <td>0.50</td>\n",
       "      <td>93.704912</td>\n",
       "    </tr>\n",
       "    <tr>\n",
       "      <th>4</th>\n",
       "      <td>Almond Delight</td>\n",
       "      <td>Ralston Purina</td>\n",
       "      <td>C</td>\n",
       "      <td>110</td>\n",
       "      <td>2</td>\n",
       "      <td>2</td>\n",
       "      <td>200</td>\n",
       "      <td>1.0</td>\n",
       "      <td>14.0</td>\n",
       "      <td>8</td>\n",
       "      <td>96</td>\n",
       "      <td>25</td>\n",
       "      <td>3</td>\n",
       "      <td>1.0</td>\n",
       "      <td>0.75</td>\n",
       "      <td>34.384843</td>\n",
       "    </tr>\n",
       "  </tbody>\n",
       "</table>\n",
       "</div>"
      ],
      "text/plain": [
       "                        name             mfr type  calories  protein  fat  \\\n",
       "0                  100% Bran         Nabisco    C        70        4    1   \n",
       "1          100% Natural Bran     Quaker Oats    C       120        3    5   \n",
       "2                   All-Bran        Kelloggs    C        70        4    1   \n",
       "3  All-Bran with Extra Fiber        Kelloggs    C        50        4    0   \n",
       "4             Almond Delight  Ralston Purina    C       110        2    2   \n",
       "\n",
       "   sodium  fiber  carbo  sugars  potass  vitamins  shelf  weight  cups  \\\n",
       "0     130   10.0    5.0       6     280        25      3     1.0  0.33   \n",
       "1      15    2.0    8.0       8     135         0      3     1.0  1.00   \n",
       "2     260    9.0    7.0       5     320        25      3     1.0  0.33   \n",
       "3     140   14.0    8.0       0     330        25      3     1.0  0.50   \n",
       "4     200    1.0   14.0       8      96        25      3     1.0  0.75   \n",
       "\n",
       "      rating  \n",
       "0  68.402973  \n",
       "1  33.983679  \n",
       "2  59.425505  \n",
       "3  93.704912  \n",
       "4  34.384843  "
      ]
     },
     "execution_count": 234,
     "metadata": {},
     "output_type": "execute_result"
    }
   ],
   "source": [
    "# plot a pairwise correlation between ratings and other variables\n",
    "cereal_df.head()"
   ]
  },
  {
   "cell_type": "code",
   "execution_count": 235,
   "metadata": {
    "colab": {
     "base_uri": "https://localhost:8080/",
     "height": 704
    },
    "id": "mut_X7TH3E1H",
    "outputId": "ef374763-6c97-4c01-de7d-6bbbeb4a0ef7"
   },
   "outputs": [
    {
     "data": {
      "text/plain": [
       "<AxesSubplot:>"
      ]
     },
     "execution_count": 235,
     "metadata": {},
     "output_type": "execute_result"
    },
    {
     "data": {
      "image/png": "[encoded data removed]",
      "text/plain": [
       "<Figure size 1152x576 with 2 Axes>"
      ]
     },
     "metadata": {},
     "output_type": "display_data"
    }
   ],
   "source": [
    "cereal_df_4_corr = cereal_df.drop(['name', 'mfr', 'type'], axis = 1)\n",
    "corr_matrix = cereal_df_4_corr.corr()\n",
    "\n",
    "plt.figure(figsize=(16,8))\n",
    "sns.heatmap(corr_matrix, annot=True, linewidth=.5, cmap=\"crest\")"
   ]
  },
  {
   "cell_type": "code",
   "execution_count": 236,
   "metadata": {
    "colab": {
     "base_uri": "https://localhost:8080/",
     "height": 550
    },
    "id": "FTsMLln9_Y_D",
    "outputId": "647f7113-1af2-4205-89ca-6d5c625f3b34"
   },
   "outputs": [
    {
     "data": {
      "text/plain": [
       "<AxesSubplot:>"
      ]
     },
     "execution_count": 236,
     "metadata": {},
     "output_type": "execute_result"
    },
    {
     "data": {
      "image/png": "[encoded data removed]",
      "text/plain": [
       "<Figure size 720x432 with 2 Axes>"
      ]
     },
     "metadata": {},
     "output_type": "display_data"
    }
   ],
   "source": [
    "plt.figure(figsize=(10,6))\n",
    "sns.heatmap(corr_matrix[['rating']].sort_values(by='rating', ascending=False), annot=True, linewidth=.5, cmap=\"crest\")"
   ]
  },
  {
   "cell_type": "markdown",
   "metadata": {
    "id": "xXzsCYN06iol"
   },
   "source": [
    "This shows that fiber, protein, and potassium are the most significant features in determining higher rating and sodium, fat, calories, and sugars are the most significant features for lower ratings"
   ]
  },
  {
   "cell_type": "markdown",
   "metadata": {},
   "source": [
    "### Data Splitting\n",
    "\n",
    "Separate the data into features and target, encode categorical variable, remove multicollinearity, and split the data into train test"
   ]
  },
  {
   "cell_type": "code",
   "execution_count": 237,
   "metadata": {},
   "outputs": [
    {
     "data": {
      "text/html": [
       "<div>\n",
       "<style scoped>\n",
       "    .dataframe tbody tr th:only-of-type {\n",
       "        vertical-align: middle;\n",
       "    }\n",
       "\n",
       "    .dataframe tbody tr th {\n",
       "        vertical-align: top;\n",
       "    }\n",
       "\n",
       "    .dataframe thead th {\n",
       "        text-align: right;\n",
       "    }\n",
       "</style>\n",
       "<table border=\"1\" class=\"dataframe\">\n",
       "  <thead>\n",
       "    <tr style=\"text-align: right;\">\n",
       "      <th></th>\n",
       "      <th>calories</th>\n",
       "      <th>protein</th>\n",
       "      <th>fat</th>\n",
       "      <th>sodium</th>\n",
       "      <th>fiber</th>\n",
       "      <th>carbo</th>\n",
       "      <th>sugars</th>\n",
       "      <th>vitamins</th>\n",
       "      <th>shelf</th>\n",
       "      <th>weight</th>\n",
       "      <th>cups</th>\n",
       "      <th>type_C</th>\n",
       "      <th>type_H</th>\n",
       "    </tr>\n",
       "  </thead>\n",
       "  <tbody>\n",
       "    <tr>\n",
       "      <th>0</th>\n",
       "      <td>70</td>\n",
       "      <td>4</td>\n",
       "      <td>1</td>\n",
       "      <td>130</td>\n",
       "      <td>10.0</td>\n",
       "      <td>5.0</td>\n",
       "      <td>6</td>\n",
       "      <td>25</td>\n",
       "      <td>3</td>\n",
       "      <td>1.0</td>\n",
       "      <td>0.33</td>\n",
       "      <td>1.0</td>\n",
       "      <td>0.0</td>\n",
       "    </tr>\n",
       "    <tr>\n",
       "      <th>1</th>\n",
       "      <td>120</td>\n",
       "      <td>3</td>\n",
       "      <td>5</td>\n",
       "      <td>15</td>\n",
       "      <td>2.0</td>\n",
       "      <td>8.0</td>\n",
       "      <td>8</td>\n",
       "      <td>0</td>\n",
       "      <td>3</td>\n",
       "      <td>1.0</td>\n",
       "      <td>1.00</td>\n",
       "      <td>1.0</td>\n",
       "      <td>0.0</td>\n",
       "    </tr>\n",
       "    <tr>\n",
       "      <th>2</th>\n",
       "      <td>70</td>\n",
       "      <td>4</td>\n",
       "      <td>1</td>\n",
       "      <td>260</td>\n",
       "      <td>9.0</td>\n",
       "      <td>7.0</td>\n",
       "      <td>5</td>\n",
       "      <td>25</td>\n",
       "      <td>3</td>\n",
       "      <td>1.0</td>\n",
       "      <td>0.33</td>\n",
       "      <td>1.0</td>\n",
       "      <td>0.0</td>\n",
       "    </tr>\n",
       "    <tr>\n",
       "      <th>3</th>\n",
       "      <td>50</td>\n",
       "      <td>4</td>\n",
       "      <td>0</td>\n",
       "      <td>140</td>\n",
       "      <td>14.0</td>\n",
       "      <td>8.0</td>\n",
       "      <td>0</td>\n",
       "      <td>25</td>\n",
       "      <td>3</td>\n",
       "      <td>1.0</td>\n",
       "      <td>0.50</td>\n",
       "      <td>1.0</td>\n",
       "      <td>0.0</td>\n",
       "    </tr>\n",
       "    <tr>\n",
       "      <th>4</th>\n",
       "      <td>110</td>\n",
       "      <td>2</td>\n",
       "      <td>2</td>\n",
       "      <td>200</td>\n",
       "      <td>1.0</td>\n",
       "      <td>14.0</td>\n",
       "      <td>8</td>\n",
       "      <td>25</td>\n",
       "      <td>3</td>\n",
       "      <td>1.0</td>\n",
       "      <td>0.75</td>\n",
       "      <td>1.0</td>\n",
       "      <td>0.0</td>\n",
       "    </tr>\n",
       "  </tbody>\n",
       "</table>\n",
       "</div>"
      ],
      "text/plain": [
       "   calories  protein  fat  sodium  fiber  carbo  sugars  vitamins  shelf  \\\n",
       "0        70        4    1     130   10.0    5.0       6        25      3   \n",
       "1       120        3    5      15    2.0    8.0       8         0      3   \n",
       "2        70        4    1     260    9.0    7.0       5        25      3   \n",
       "3        50        4    0     140   14.0    8.0       0        25      3   \n",
       "4       110        2    2     200    1.0   14.0       8        25      3   \n",
       "\n",
       "   weight  cups  type_C  type_H  \n",
       "0     1.0  0.33     1.0     0.0  \n",
       "1     1.0  1.00     1.0     0.0  \n",
       "2     1.0  0.33     1.0     0.0  \n",
       "3     1.0  0.50     1.0     0.0  \n",
       "4     1.0  0.75     1.0     0.0  "
      ]
     },
     "execution_count": 237,
     "metadata": {},
     "output_type": "execute_result"
    }
   ],
   "source": [
    "#  Define your features (X) and target (y)\n",
    "\n",
    "X = cereal_df.drop(['name', 'mfr', 'potass','rating'], axis = 1)\n",
    "# Potassium was dropped due to its high correlation with fiber (multicollinearity)\n",
    "\n",
    "# Transform 'type' to categorical with OneHotEncoder\n",
    "\n",
    "encoder = OneHotEncoder(sparse=False)\n",
    "\n",
    "# Fit and transform the 'type' column\n",
    "encoded = encoder.fit_transform(X[['type']])\n",
    "\n",
    "# Create a DataFrame from the encoded values with column names\n",
    "encoded_df = pd.DataFrame(encoded, columns=encoder.get_feature_names_out(['type']))\n",
    "\n",
    "# Concatenate the new DataFrame with the original DataFrame\n",
    "X = pd.concat([X, encoded_df], axis=1)\n",
    "\n",
    "# Drop the original 'type' column if needed\n",
    "X = X.drop(['type'], axis=1)\n",
    "y = cereal_df['rating']\n",
    "\n",
    "X.head()"
   ]
  },
  {
   "cell_type": "code",
   "execution_count": 238,
   "metadata": {},
   "outputs": [],
   "source": [
    "# Split the data into training and testing set\n",
    "X_train, X_test, y_train, y_test = train_test_split(X, y, test_size=0.2, random_state=42)"
   ]
  },
  {
   "cell_type": "markdown",
   "metadata": {},
   "source": [
    "### Model Building and Performance Metrics"
   ]
  },
  {
   "cell_type": "code",
   "execution_count": 239,
   "metadata": {
    "scrolled": true
   },
   "outputs": [
    {
     "name": "stdout",
     "output_type": "stream",
     "text": [
      "Linear Regression - MAE: 0.72, RMSE: 1.05, R-squared: 1.00\n"
     ]
    }
   ],
   "source": [
    "# Linear Regression\n",
    "lr_model = LinearRegression()\n",
    "lr_model.fit(X_train, y_train)\n",
    "lr_pred = lr_model.predict(X_test)\n",
    "lr_mae = mean_absolute_error(y_test, lr_pred)\n",
    "lr_rmse = np.sqrt(mean_squared_error(y_test, lr_pred))\n",
    "lr_r2 = r2_score(y_test, lr_pred)\n",
    "print(\"Linear Regression - MAE: {:.2f}, RMSE: {:.2f}, R-squared: {:.2f}\".format(lr_mae, lr_rmse, lr_r2))"
   ]
  },
  {
   "cell_type": "code",
   "execution_count": 240,
   "metadata": {},
   "outputs": [
    {
     "name": "stdout",
     "output_type": "stream",
     "text": [
      "Ridge Regression - MAE: 0.76, RMSE: 1.03, R-squared: 1.00\n"
     ]
    }
   ],
   "source": [
    "# Ridge Regression\n",
    "ridge_model = Ridge(alpha=1)\n",
    "ridge_model.fit(X_train, y_train)\n",
    "ridge_pred = ridge_model.predict(X_test)\n",
    "ridge_mae = mean_absolute_error(y_test, ridge_pred)\n",
    "ridge_rmse = np.sqrt(mean_squared_error(y_test, ridge_pred))\n",
    "ridge_r2 = r2_score(y_test, ridge_pred)\n",
    "print(\"Ridge Regression - MAE: {:.2f}, RMSE: {:.2f}, R-squared: {:.2f}\".format(ridge_mae, ridge_rmse, ridge_r2))"
   ]
  },
  {
   "cell_type": "code",
   "execution_count": 241,
   "metadata": {},
   "outputs": [
    {
     "name": "stdout",
     "output_type": "stream",
     "text": [
      "Lasso Regression - MAE: 0.72, RMSE: 1.04, R-squared: 1.00\n"
     ]
    }
   ],
   "source": [
    "# Lasso Regression\n",
    "lasso_model = Lasso(alpha=0.001) \n",
    "lasso_model.fit(X_train, y_train)\n",
    "lasso_pred = lasso_model.predict(X_test)\n",
    "lasso_mae = mean_absolute_error(y_test, lasso_pred)\n",
    "lasso_rmse = np.sqrt(mean_squared_error(y_test, lasso_pred))\n",
    "lasso_r2 = r2_score(y_test, lasso_pred)\n",
    "print(\"Lasso Regression - MAE: {:.2f}, RMSE: {:.2f}, R-squared: {:.2f}\".format(lasso_mae, lasso_rmse, lasso_r2))"
   ]
  },
  {
   "cell_type": "code",
   "execution_count": 242,
   "metadata": {},
   "outputs": [
    {
     "name": "stdout",
     "output_type": "stream",
     "text": [
      "Polynomial Regression - MAE: 4.32, RMSE: 6.18, R-squared: 0.83\n"
     ]
    }
   ],
   "source": [
    "# Polynomial Regression (with degree=2)\n",
    "poly = PolynomialFeatures(degree=2)\n",
    "X_poly = poly.fit_transform(X)\n",
    "X_train_poly, X_test_poly, y_train_poly, y_test_poly = train_test_split(X_poly, y, test_size=0.2, random_state=42)\n",
    "poly_model = LinearRegression()\n",
    "poly_model.fit(X_train_poly, y_train_poly)\n",
    "poly_pred = poly_model.predict(X_test_poly)\n",
    "poly_mae = mean_absolute_error(y_test_poly, poly_pred)\n",
    "poly_rmse = np.sqrt(mean_squared_error(y_test_poly, poly_pred))\n",
    "poly_r2 = r2_score(y_test_poly, poly_pred)\n",
    "print(\"Polynomial Regression - MAE: {:.2f}, RMSE: {:.2f}, R-squared: {:.2f}\".format(poly_mae, poly_rmse, poly_r2))"
   ]
  },
  {
   "cell_type": "code",
   "execution_count": 243,
   "metadata": {},
   "outputs": [
    {
     "name": "stdout",
     "output_type": "stream",
     "text": [
      "Random Forest Regression - MAE: 5.27, RMSE: 6.31, R-squared: 0.82\n"
     ]
    }
   ],
   "source": [
    "# Random Forest Regression\n",
    "rf_model = RandomForestRegressor(n_estimators=100, random_state=42)\n",
    "rf_model.fit(X_train, y_train)\n",
    "rf_pred = rf_model.predict(X_test)\n",
    "rf_mae = mean_absolute_error(y_test, rf_pred)\n",
    "rf_rmse = np.sqrt(mean_squared_error(y_test, rf_pred))\n",
    "rf_r2 = r2_score(y_test, rf_pred)\n",
    "print(\"Random Forest Regression - MAE: {:.2f}, RMSE: {:.2f}, R-squared: {:.2f}\".format(rf_mae, rf_rmse, rf_r2))"
   ]
  },
  {
   "cell_type": "markdown",
   "metadata": {},
   "source": [
    "### Feature Importances\n",
    "\n",
    "Checking out the importance features based on the three best performing linear models; Lr_model, Lasso_model, and Ridge_model"
   ]
  },
  {
   "cell_type": "code",
   "execution_count": 244,
   "metadata": {},
   "outputs": [
    {
     "data": {
      "text/plain": [
       "fiber       2.54\n",
       "protein     2.38\n",
       "type_C      1.15\n",
       "cups        0.85\n",
       "carbo       0.52\n",
       "weight      0.15\n",
       "shelf      -0.02\n",
       "sodium     -0.05\n",
       "vitamins   -0.05\n",
       "calories   -0.10\n",
       "type_H     -1.15\n",
       "sugars     -1.34\n",
       "fat        -3.08\n",
       "dtype: float64"
      ]
     },
     "execution_count": 244,
     "metadata": {},
     "output_type": "execute_result"
    }
   ],
   "source": [
    "coefficients = lr_model.coef_.round(2)\n",
    "features = X.columns\n",
    "feat_imp_lr = pd.Series(coefficients, index = features)\n",
    "feat_imp_lr = feat_imp_lr.sort_values(ascending = False)\n",
    "feat_imp_lr"
   ]
  },
  {
   "cell_type": "code",
   "execution_count": 245,
   "metadata": {
    "scrolled": false
   },
   "outputs": [
    {
     "data": {
      "image/png": "[encoded data removed]",
      "text/plain": [
       "<Figure size 720x432 with 1 Axes>"
      ]
     },
     "metadata": {},
     "output_type": "display_data"
    }
   ],
   "source": [
    "plt.figure(figsize=(10, 6))\n",
    "sns.barplot(x=feat_imp_lr, y=feat_imp_lr.index)\n",
    "plt.xlabel(\"Feature Importance\")\n",
    "plt.ylabel(\"Features\")\n",
    "plt.title(\"Feature Importances\")\n",
    "plt.show()"
   ]
  },
  {
   "cell_type": "code",
   "execution_count": 246,
   "metadata": {},
   "outputs": [
    {
     "data": {
      "text/plain": [
       "fiber       2.54\n",
       "protein     2.29\n",
       "type_C      0.90\n",
       "carbo       0.54\n",
       "cups        0.54\n",
       "weight      0.06\n",
       "sodium     -0.05\n",
       "vitamins   -0.05\n",
       "shelf      -0.06\n",
       "calories   -0.11\n",
       "type_H     -0.90\n",
       "sugars     -1.32\n",
       "fat        -2.95\n",
       "dtype: float64"
      ]
     },
     "execution_count": 246,
     "metadata": {},
     "output_type": "execute_result"
    }
   ],
   "source": [
    "coefficients = ridge_model.coef_.round(2)\n",
    "features = X.columns\n",
    "feat_imp_ridge = pd.Series(coefficients, index = features)\n",
    "feat_imp_ridge = feat_imp_ridge.sort_values(ascending = False)\n",
    "feat_imp_ridge"
   ]
  },
  {
   "cell_type": "code",
   "execution_count": 247,
   "metadata": {},
   "outputs": [
    {
     "data": {
      "image/png": "[encoded data removed]",
      "text/plain": [
       "<Figure size 720x432 with 1 Axes>"
      ]
     },
     "metadata": {},
     "output_type": "display_data"
    }
   ],
   "source": [
    "plt.figure(figsize=(10, 6))\n",
    "sns.barplot(x=feat_imp_ridge, y=feat_imp_ridge.index)\n",
    "plt.xlabel(\"Feature Importance\")\n",
    "plt.ylabel(\"Features\")\n",
    "plt.title(\"Feature Importances\")\n",
    "plt.show()"
   ]
  },
  {
   "cell_type": "code",
   "execution_count": 248,
   "metadata": {},
   "outputs": [
    {
     "data": {
      "text/plain": [
       "fiber       2.54\n",
       "protein     2.38\n",
       "type_C      2.26\n",
       "cups        0.81\n",
       "carbo       0.52\n",
       "weight      0.00\n",
       "type_H     -0.00\n",
       "shelf      -0.02\n",
       "sodium     -0.05\n",
       "vitamins   -0.05\n",
       "calories   -0.10\n",
       "sugars     -1.34\n",
       "fat        -3.09\n",
       "dtype: float64"
      ]
     },
     "execution_count": 248,
     "metadata": {},
     "output_type": "execute_result"
    }
   ],
   "source": [
    "coefficients = lasso_model.coef_.round(2)\n",
    "features = X.columns\n",
    "feat_imp_lasso = pd.Series(coefficients, index = features)\n",
    "feat_imp_lasso = feat_imp_lasso.sort_values(ascending = False)\n",
    "feat_imp_lasso"
   ]
  },
  {
   "cell_type": "code",
   "execution_count": 249,
   "metadata": {},
   "outputs": [
    {
     "data": {
      "image/png": "[encoded data removed]",
      "text/plain": [
       "<Figure size 720x432 with 1 Axes>"
      ]
     },
     "metadata": {},
     "output_type": "display_data"
    }
   ],
   "source": [
    "plt.figure(figsize=(10, 6))\n",
    "sns.barplot(x=feat_imp_lasso, y=feat_imp_lasso.index)\n",
    "plt.xlabel(\"Feature Importance\")\n",
    "plt.ylabel(\"Features\")\n",
    "plt.title(\"Feature Importances\")\n",
    "plt.show()"
   ]
  },
  {
   "cell_type": "markdown",
   "metadata": {},
   "source": [
    "The three feature importance graphs shows some importance features in predicting the ratings of each cereals. It shows that fiber, protein, and cold cereals was an importance positive features to predicting ratings, which means that the higher the fiber and protein, the better the rating provided that cereal is a cold type. \n",
    "\n",
    "Similarly, fat, sugars, and sometimes calories and hot cereals possessed to be the important features to predicting cereals as they are negatively related to ratings, which means that the higher any of these 4 features the lower the ratings. \n",
    "\n",
    "This also attest to the nutritional facts that fiber and protein are essential component of healthy cereal as the higher they are the richer the cereal while too much of sugars, fats, and calories in cereals should be avoided."
   ]
  },
  {
   "cell_type": "markdown",
   "metadata": {},
   "source": [
    "### Feature Engineering\n",
    "\n",
    "Let's explore the effect of normalizing the dataset on our model performance"
   ]
  },
  {
   "cell_type": "markdown",
   "metadata": {},
   "source": [
    "#### Let's normalize the data using Z-score transform. "
   ]
  },
  {
   "cell_type": "code",
   "execution_count": 250,
   "metadata": {},
   "outputs": [
    {
     "data": {
      "text/html": [
       "<div>\n",
       "<style scoped>\n",
       "    .dataframe tbody tr th:only-of-type {\n",
       "        vertical-align: middle;\n",
       "    }\n",
       "\n",
       "    .dataframe tbody tr th {\n",
       "        vertical-align: top;\n",
       "    }\n",
       "\n",
       "    .dataframe thead th {\n",
       "        text-align: right;\n",
       "    }\n",
       "</style>\n",
       "<table border=\"1\" class=\"dataframe\">\n",
       "  <thead>\n",
       "    <tr style=\"text-align: right;\">\n",
       "      <th></th>\n",
       "      <th>calories</th>\n",
       "      <th>protein</th>\n",
       "      <th>fat</th>\n",
       "      <th>sodium</th>\n",
       "      <th>fiber</th>\n",
       "      <th>carbo</th>\n",
       "      <th>sugars</th>\n",
       "      <th>vitamins</th>\n",
       "      <th>shelf</th>\n",
       "      <th>weight</th>\n",
       "      <th>cups</th>\n",
       "      <th>type_C</th>\n",
       "      <th>type_H</th>\n",
       "    </tr>\n",
       "  </thead>\n",
       "  <tbody>\n",
       "    <tr>\n",
       "      <th>0</th>\n",
       "      <td>-1.905397</td>\n",
       "      <td>1.337319</td>\n",
       "      <td>-0.012988</td>\n",
       "      <td>-0.356306</td>\n",
       "      <td>3.314439</td>\n",
       "      <td>-2.542635</td>\n",
       "      <td>-0.237416</td>\n",
       "      <td>-0.14627</td>\n",
       "      <td>0.957813</td>\n",
       "      <td>-0.198067</td>\n",
       "      <td>-2.123870</td>\n",
       "      <td>0.201347</td>\n",
       "      <td>-0.201347</td>\n",
       "    </tr>\n",
       "    <tr>\n",
       "      <th>1</th>\n",
       "      <td>0.677623</td>\n",
       "      <td>0.417912</td>\n",
       "      <td>3.987349</td>\n",
       "      <td>-1.737087</td>\n",
       "      <td>-0.064172</td>\n",
       "      <td>-1.764690</td>\n",
       "      <td>0.225395</td>\n",
       "      <td>-1.27255</td>\n",
       "      <td>0.957813</td>\n",
       "      <td>-0.198067</td>\n",
       "      <td>0.774053</td>\n",
       "      <td>0.201347</td>\n",
       "      <td>-0.201347</td>\n",
       "    </tr>\n",
       "    <tr>\n",
       "      <th>2</th>\n",
       "      <td>-1.905397</td>\n",
       "      <td>1.337319</td>\n",
       "      <td>-0.012988</td>\n",
       "      <td>1.204578</td>\n",
       "      <td>2.892113</td>\n",
       "      <td>-2.024005</td>\n",
       "      <td>-0.468822</td>\n",
       "      <td>-0.14627</td>\n",
       "      <td>0.957813</td>\n",
       "      <td>-0.198067</td>\n",
       "      <td>-2.123870</td>\n",
       "      <td>0.201347</td>\n",
       "      <td>-0.201347</td>\n",
       "    </tr>\n",
       "    <tr>\n",
       "      <th>3</th>\n",
       "      <td>-2.938605</td>\n",
       "      <td>1.337319</td>\n",
       "      <td>-1.013072</td>\n",
       "      <td>-0.236238</td>\n",
       "      <td>5.003745</td>\n",
       "      <td>-1.764690</td>\n",
       "      <td>-1.625849</td>\n",
       "      <td>-0.14627</td>\n",
       "      <td>0.957813</td>\n",
       "      <td>-0.198067</td>\n",
       "      <td>-1.388576</td>\n",
       "      <td>0.201347</td>\n",
       "      <td>-0.201347</td>\n",
       "    </tr>\n",
       "    <tr>\n",
       "      <th>4</th>\n",
       "      <td>0.161019</td>\n",
       "      <td>-0.501495</td>\n",
       "      <td>0.987096</td>\n",
       "      <td>0.484170</td>\n",
       "      <td>-0.486498</td>\n",
       "      <td>-0.208799</td>\n",
       "      <td>0.225395</td>\n",
       "      <td>-0.14627</td>\n",
       "      <td>0.957813</td>\n",
       "      <td>-0.198067</td>\n",
       "      <td>-0.307262</td>\n",
       "      <td>0.201347</td>\n",
       "      <td>-0.201347</td>\n",
       "    </tr>\n",
       "  </tbody>\n",
       "</table>\n",
       "</div>"
      ],
      "text/plain": [
       "   calories   protein       fat    sodium     fiber     carbo    sugars  \\\n",
       "0 -1.905397  1.337319 -0.012988 -0.356306  3.314439 -2.542635 -0.237416   \n",
       "1  0.677623  0.417912  3.987349 -1.737087 -0.064172 -1.764690  0.225395   \n",
       "2 -1.905397  1.337319 -0.012988  1.204578  2.892113 -2.024005 -0.468822   \n",
       "3 -2.938605  1.337319 -1.013072 -0.236238  5.003745 -1.764690 -1.625849   \n",
       "4  0.161019 -0.501495  0.987096  0.484170 -0.486498 -0.208799  0.225395   \n",
       "\n",
       "   vitamins     shelf    weight      cups    type_C    type_H  \n",
       "0  -0.14627  0.957813 -0.198067 -2.123870  0.201347 -0.201347  \n",
       "1  -1.27255  0.957813 -0.198067  0.774053  0.201347 -0.201347  \n",
       "2  -0.14627  0.957813 -0.198067 -2.123870  0.201347 -0.201347  \n",
       "3  -0.14627  0.957813 -0.198067 -1.388576  0.201347 -0.201347  \n",
       "4  -0.14627  0.957813 -0.198067 -0.307262  0.201347 -0.201347  "
      ]
     },
     "execution_count": 250,
     "metadata": {},
     "output_type": "execute_result"
    }
   ],
   "source": [
    "X_norm = X.apply(stats.zscore)\n",
    "X_norm.head()"
   ]
  },
  {
   "cell_type": "code",
   "execution_count": 251,
   "metadata": {},
   "outputs": [],
   "source": [
    "# Split the data into training and testing set\n",
    "X_norm_train, X_norm_test, y_train, y_test = train_test_split(X_norm, y, test_size=0.2, random_state=42)"
   ]
  },
  {
   "cell_type": "code",
   "execution_count": 252,
   "metadata": {},
   "outputs": [
    {
     "name": "stdout",
     "output_type": "stream",
     "text": [
      "Linear Regression with normalized data - MAE: 0.72, RMSE: 1.05, R-squared: 1.00\n"
     ]
    }
   ],
   "source": [
    "# Linear Regression with normalized data\n",
    "lr_model = LinearRegression()\n",
    "lr_model.fit(X_norm_train, y_train)\n",
    "lr_pred_norm = lr_model.predict(X_norm_test)\n",
    "lr_mae_norm = mean_absolute_error(y_test, lr_pred_norm)\n",
    "lr_rmse_norm = np.sqrt(mean_squared_error(y_test, lr_pred_norm))\n",
    "lr_r2_norm = r2_score(y_test, lr_pred_norm)\n",
    "print(\"Linear Regression with normalized data - MAE: {:.2f}, RMSE: {:.2f}, R-squared: {:.2f}\".format(lr_mae_norm, lr_rmse_norm, lr_r2_norm))"
   ]
  },
  {
   "cell_type": "code",
   "execution_count": 253,
   "metadata": {},
   "outputs": [
    {
     "name": "stdout",
     "output_type": "stream",
     "text": [
      "Ridge Regression with normalized data - MAE: 0.76, RMSE: 1.00, R-squared: 1.00\n"
     ]
    }
   ],
   "source": [
    "# Ridge Regression with normalized data\n",
    "ridge_model = Ridge(alpha= 1)\n",
    "ridge_model.fit(X_norm_train, y_train)\n",
    "ridge_pred_norm = ridge_model.predict(X_norm_test)\n",
    "ridge_mae_norm = mean_absolute_error(y_test, ridge_pred_norm)\n",
    "ridge_rmse_norm = np.sqrt(mean_squared_error(y_test, ridge_pred_norm))\n",
    "ridge_r2_norm = r2_score(y_test, ridge_pred_norm)\n",
    "print(\"Ridge Regression with normalized data - MAE: {:.2f}, RMSE: {:.2f}, R-squared: {:.2f}\".format(ridge_mae_norm, ridge_rmse_norm, ridge_r2_norm))"
   ]
  },
  {
   "cell_type": "code",
   "execution_count": 254,
   "metadata": {},
   "outputs": [
    {
     "name": "stdout",
     "output_type": "stream",
     "text": [
      "Lasso Regression with normalized data - MAE: 0.72, RMSE: 1.04, R-squared: 1.00\n"
     ]
    }
   ],
   "source": [
    "# Lasso Regression with normalized data\n",
    "lasso_model = Lasso(alpha=0.001) \n",
    "lasso_model.fit(X_norm_train, y_train)\n",
    "lasso_pred_norm = lasso_model.predict(X_norm_test)\n",
    "lasso_mae_norm = mean_absolute_error(y_test, lasso_pred_norm)\n",
    "lasso_rmse_norm = np.sqrt(mean_squared_error(y_test, lasso_pred_norm))\n",
    "lasso_r2_norm = r2_score(y_test, lasso_pred_norm)\n",
    "print(\"Lasso Regression with normalized data - MAE: {:.2f}, RMSE: {:.2f}, R-squared: {:.2f}\".format(lasso_mae_norm, lasso_rmse_norm, lasso_r2_norm))"
   ]
  },
  {
   "cell_type": "code",
   "execution_count": 255,
   "metadata": {},
   "outputs": [
    {
     "data": {
      "text/html": [
       "<div>\n",
       "<style scoped>\n",
       "    .dataframe tbody tr th:only-of-type {\n",
       "        vertical-align: middle;\n",
       "    }\n",
       "\n",
       "    .dataframe tbody tr th {\n",
       "        vertical-align: top;\n",
       "    }\n",
       "\n",
       "    .dataframe thead th {\n",
       "        text-align: right;\n",
       "    }\n",
       "</style>\n",
       "<table border=\"1\" class=\"dataframe\">\n",
       "  <thead>\n",
       "    <tr style=\"text-align: right;\">\n",
       "      <th></th>\n",
       "      <th>Model</th>\n",
       "      <th>MAE</th>\n",
       "      <th>MAE_norm</th>\n",
       "      <th>RMSE</th>\n",
       "      <th>RMSE_norm</th>\n",
       "      <th>R2_Score</th>\n",
       "      <th>R2_Score_norm</th>\n",
       "    </tr>\n",
       "  </thead>\n",
       "  <tbody>\n",
       "    <tr>\n",
       "      <th>0</th>\n",
       "      <td>Linear Regression</td>\n",
       "      <td>0.721530</td>\n",
       "      <td>0.721530</td>\n",
       "      <td>1.045468</td>\n",
       "      <td>1.045468</td>\n",
       "      <td>0.995024</td>\n",
       "      <td>0.995024</td>\n",
       "    </tr>\n",
       "    <tr>\n",
       "      <th>1</th>\n",
       "      <td>Ridge Regression</td>\n",
       "      <td>0.757931</td>\n",
       "      <td>0.758274</td>\n",
       "      <td>1.032640</td>\n",
       "      <td>0.999809</td>\n",
       "      <td>0.995145</td>\n",
       "      <td>0.995449</td>\n",
       "    </tr>\n",
       "    <tr>\n",
       "      <th>2</th>\n",
       "      <td>Lasso Regression</td>\n",
       "      <td>0.720410</td>\n",
       "      <td>0.721221</td>\n",
       "      <td>1.044278</td>\n",
       "      <td>1.044392</td>\n",
       "      <td>0.995035</td>\n",
       "      <td>0.995034</td>\n",
       "    </tr>\n",
       "  </tbody>\n",
       "</table>\n",
       "</div>"
      ],
      "text/plain": [
       "               Model       MAE  MAE_norm      RMSE  RMSE_norm  R2_Score  \\\n",
       "0  Linear Regression  0.721530  0.721530  1.045468   1.045468  0.995024   \n",
       "1   Ridge Regression  0.757931  0.758274  1.032640   0.999809  0.995145   \n",
       "2   Lasso Regression  0.720410  0.721221  1.044278   1.044392  0.995035   \n",
       "\n",
       "   R2_Score_norm  \n",
       "0       0.995024  \n",
       "1       0.995449  \n",
       "2       0.995034  "
      ]
     },
     "execution_count": 255,
     "metadata": {},
     "output_type": "execute_result"
    }
   ],
   "source": [
    "# Summary performance metrics of the three best model LR, Ridge, and Lasso\n",
    "\n",
    "metrics = {'Model': ['Linear Regression', 'Ridge Regression', 'Lasso Regression'],\n",
    "           'MAE': [lr_mae, ridge_mae, lasso_mae],\n",
    "           'MAE_norm': [lr_mae_norm, ridge_mae_norm, lasso_mae_norm], \n",
    "           'RMSE': [lr_rmse, ridge_rmse, lasso_rmse],\n",
    "           'RMSE_norm': [lr_rmse_norm, ridge_rmse_norm, lasso_rmse_norm], \n",
    "           'R2_Score': [lr_r2, ridge_r2, lasso_r2],\n",
    "           'R2_Score_norm': [lr_r2_norm, ridge_r2_norm, lasso_r2_norm]\n",
    "          }\n",
    "metrics_df = pd.DataFrame(metrics)\n",
    "metrics_df"
   ]
  },
  {
   "cell_type": "code",
   "execution_count": 256,
   "metadata": {},
   "outputs": [
    {
     "data": {
      "image/png": "[encoded data removed]",
      "text/plain": [
       "<Figure size 864x576 with 6 Axes>"
      ]
     },
     "metadata": {},
     "output_type": "display_data"
    }
   ],
   "source": [
    "models = metrics_df['Model']\n",
    "mae_scores = metrics_df['MAE']\n",
    "mae_scores_norm = metrics_df['MAE_norm']\n",
    "rmse_scores = metrics_df['RMSE']\n",
    "rmse_scores_norm = metrics_df['RMSE_norm']\n",
    "r2_scores = metrics_df['R2_Score']\n",
    "\n",
    "plt.figure(figsize=(12, 8))\n",
    "\n",
    "# Create subplots for each metric\n",
    "plt.subplot(231)\n",
    "plt.bar(models, metrics_df['MAE'], color='b')\n",
    "plt.title('MAE')\n",
    "plt.xticks(rotation=45)\n",
    "\n",
    "plt.subplot(234)\n",
    "plt.bar(models, metrics_df['MAE_norm'], color='b', alpha=0.7)\n",
    "plt.title('MAE_norm')\n",
    "plt.xticks(rotation=45)\n",
    "\n",
    "plt.subplot(232)\n",
    "plt.bar(models, metrics_df['RMSE'], color='g')\n",
    "plt.title('RMSE')\n",
    "plt.xticks(rotation=45)\n",
    "\n",
    "plt.subplot(235)\n",
    "plt.bar(models, metrics_df['RMSE_norm'], color='g', alpha=0.7)\n",
    "plt.title('RMSE_norm')\n",
    "plt.xticks(rotation=45)\n",
    "\n",
    "plt.subplot(233)\n",
    "plt.bar(models, metrics_df['R2_Score'], color='r')\n",
    "plt.title('R2 Score')\n",
    "plt.xticks(rotation=45)\n",
    "\n",
    "plt.subplot(236)\n",
    "plt.bar(models, metrics_df['R2_Score_norm'], color='r', alpha=0.7)\n",
    "plt.title('R2 Score_norm')\n",
    "plt.xticks(rotation=45)\n",
    "\n",
    "plt.tight_layout()\n",
    "plt.show()\n"
   ]
  },
  {
   "cell_type": "markdown",
   "metadata": {},
   "source": [
    "The three models of Linear Regression, Ridge Regression, and Lasso Regression performed better as it can be seen from the table and chart, this depicts that the variables are linearly related to the target (ratings). \n",
    "\n",
    "The Lasso Model has the lowest MAE for both actual data and normalized dataset. Ridge Model performed better with lowest and highest RMSE and R2_score respectively for both actual data and normalized dataset. "
   ]
  },
  {
   "cell_type": "markdown",
   "metadata": {
    "id": "w7Az3KAiCOaP"
   },
   "source": [
    "### **Way to go**\n",
    "Categorize cereals into healthy and unhealthy based on standard nutritional attributes\n",
    "\n",
    "Perform manufacturer's analysis by masking out each manufacturer and see the trends in their products, then categorize which of them is producing healthy cereals and which of then is producing unhealthy cereals\n",
    "\n",
    "Explore the possibility of building a model.\n"
   ]
  },
  {
   "cell_type": "code",
   "execution_count": null,
   "metadata": {
    "id": "QJOarQrn8DFG"
   },
   "outputs": [],
   "source": []
  }
 ],
 "metadata": {
  "colab": {
   "provenance": []
  },
  "kernelspec": {
   "display_name": "Python 3 (ipykernel)",
   "language": "python",
   "name": "python3"
  },
  "language_info": {
   "codemirror_mode": {
    "name": "ipython",
    "version": 3
   },
   "file_extension": ".py",
   "mimetype": "text/x-python",
   "name": "python",
   "nbconvert_exporter": "python",
   "pygments_lexer": "ipython3",
   "version": "3.9.12"
  }
 },
 "nbformat": 4,
 "nbformat_minor": 1
}
